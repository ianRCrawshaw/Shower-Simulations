{
 "cells": [
  {
   "cell_type": "code",
   "execution_count": 1,
   "id": "fd3f6e0e-fd3f-44b0-9b91-7733a395a7ca",
   "metadata": {},
   "outputs": [
    {
     "name": "stdout",
     "output_type": "stream",
     "text": [
      "Collecting git+https://github.com/tianluyuan/dashi.git\n",
      "  Cloning https://github.com/tianluyuan/dashi.git to /tmp/pip-req-build-fm4p3cje\n",
      "  Running command git clone --filter=blob:none --quiet https://github.com/tianluyuan/dashi.git /tmp/pip-req-build-fm4p3cje\n",
      "  Resolved https://github.com/tianluyuan/dashi.git to commit 554f82d11f1bac7f7fa859d0ac4cd61aa3336a84\n",
      "  Preparing metadata (setup.py) ... \u001b[?25ldone\n",
      "\u001b[?25hNote: you may need to restart the kernel to use updated packages.\n"
     ]
    }
   ],
   "source": [
    "pip install git+https://github.com/tianluyuan/dashi.git"
   ]
  },
  {
   "cell_type": "code",
   "execution_count": 3,
   "id": "b454935c-9127-4243-90d6-cdf391d043dd",
   "metadata": {},
   "outputs": [
    {
     "ename": "ModuleNotFoundError",
     "evalue": "No module named 'photospline'",
     "output_type": "error",
     "traceback": [
      "\u001b[0;31m---------------------------------------------------------------------------\u001b[0m",
      "\u001b[0;31mModuleNotFoundError\u001b[0m                       Traceback (most recent call last)",
      "Cell \u001b[0;32mIn[3], line 9\u001b[0m\n\u001b[1;32m      5\u001b[0m \u001b[38;5;28;01mimport\u001b[39;00m \u001b[38;5;21;01mjson\u001b[39;00m\n\u001b[1;32m      7\u001b[0m \u001b[38;5;28;01mfrom\u001b[39;00m \u001b[38;5;21;01moptparse\u001b[39;00m \u001b[38;5;28;01mimport\u001b[39;00m OptionParser\n\u001b[0;32m----> 9\u001b[0m \u001b[38;5;28;01mfrom\u001b[39;00m \u001b[38;5;21;01mphotospline\u001b[39;00m \u001b[38;5;28;01mimport\u001b[39;00m glam_fit, ndsparse\n\u001b[1;32m     10\u001b[0m \u001b[38;5;28;01mfrom\u001b[39;00m \u001b[38;5;21;01micecube\u001b[39;00m\u001b[38;5;21;01m.\u001b[39;00m\u001b[38;5;21;01mclsim\u001b[39;00m\u001b[38;5;21;01m.\u001b[39;00m\u001b[38;5;21;01mtablemaker\u001b[39;00m \u001b[38;5;28;01mimport\u001b[39;00m splinefitstable, splinetable\n\u001b[1;32m     11\u001b[0m \u001b[38;5;28;01mfrom\u001b[39;00m \u001b[38;5;21;01micecube\u001b[39;00m\u001b[38;5;21;01m.\u001b[39;00m\u001b[38;5;21;01mclsim\u001b[39;00m\u001b[38;5;21;01m.\u001b[39;00m\u001b[38;5;21;01mtablemaker\u001b[39;00m\u001b[38;5;21;01m.\u001b[39;00m\u001b[38;5;21;01mphotonics\u001b[39;00m \u001b[38;5;28;01mimport\u001b[39;00m FITSTable, Parity, Efficiency, Geometry\n",
      "\u001b[0;31mModuleNotFoundError\u001b[0m: No module named 'photospline'"
     ]
    }
   ],
   "source": [
    "import sys\n",
    "import os\n",
    "import datetime\n",
    "import numpy\n",
    "import json\n",
    "\n",
    "from optparse import OptionParser\n",
    "\n",
    "from photospline import glam_fit, ndsparse\n",
    "from icecube.clsim.tablemaker import splinefitstable, splinetable\n",
    "from icecube.clsim.tablemaker.photonics import FITSTable, Parity, Efficiency, Geometry"
   ]
  },
  {
   "cell_type": "code",
   "execution_count": null,
   "id": "263ceff8-acfa-4cce-97d4-9fa908087ec8",
   "metadata": {},
   "outputs": [],
   "source": []
  }
 ],
 "metadata": {
  "kernelspec": {
   "display_name": ".venv",
   "language": "python",
   "name": ".venv"
  },
  "language_info": {
   "codemirror_mode": {
    "name": "ipython",
    "version": 3
   },
   "file_extension": ".py",
   "mimetype": "text/x-python",
   "name": "python",
   "nbconvert_exporter": "python",
   "pygments_lexer": "ipython3",
   "version": "3.10.6"
  }
 },
 "nbformat": 4,
 "nbformat_minor": 5
}
